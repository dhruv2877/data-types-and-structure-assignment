{
  "nbformat": 4,
  "nbformat_minor": 0,
  "metadata": {
    "colab": {
      "provenance": []
    },
    "kernelspec": {
      "name": "python3",
      "display_name": "Python 3"
    },
    "language_info": {
      "name": "python"
    }
  },
  "cells": [
    {
      "cell_type": "markdown",
      "source": [
        "#  ***Data Types and Structure Assignment ( Theoritical Questions)***\n"
      ],
      "metadata": {
        "id": "Q_d9UzGphXPv"
      }
    },
    {
      "cell_type": "markdown",
      "source": [
        "1. What are data structures, and why are they important ?\n",
        "\n",
        " -  Data structure are special methods of storing, accessing, managing and orgaising a collection of data, they are like containers or storge boxes for your data and we use different types of container or data structures to store different types of data depending on the nature of the data.\n",
        "\n",
        " some different types of data structures are:\n",
        " List, tuples, sets , dictionary, strings and arrays.\n",
        "\n",
        "\n",
        "- Data structures are important because:\n",
        "\n",
        "1) Storing right type of data in right type of data structure highly impacts the performance, efficiency of programme.\n",
        "\n",
        "2) Organise data in a structured way making access of data much easy and logical\n",
        "\n",
        "3) Choosing right data structure helps in data manipulation (adding, removing, replacing, modifying elements.)\n",
        "\n",
        "4) Optimize searching and storing operations.\n",
        "\n",
        "5) Saves memory usage and improves speed by choosing the right structure.\n",
        "\n",
        "\n",
        "Example:-\n",
        "          \n",
        "\n",
        "\n",
        "```\n",
        "# Defining different data structures\n",
        "my_list = [1, 2, 3, 4]  # List (Mutable)\n",
        "my_tuple = (10, 20, 30)  # Tuple (Immutable)\n",
        "my_set = {1, 2, 3, 4}  # Set (Mutable, Unique Elements)\n",
        "my_dict = {\"name\": \"Dhruv\", \"age\": 17}  # Dictionary (Mutable, Key-Value Pairs)\n",
        "my_string = \"Hello\"  # String (Immutable)\n",
        "\n",
        "# Checking and printing the types\n",
        "print(\"Type of my_list:\", type(my_list))  # Output: <class 'list'>\n",
        "print(\"Type of my_tuple:\", type(my_tuple))  # Output: <class 'tuple'>\n",
        "print(\"Type of my_set:\", type(my_set))  # Output: <class 'set'>\n",
        "print(\"Type of my_dict:\", type(my_dict))  # Output: <class 'dict'>\n",
        "print(\"Type of my_string:\", type(my_string))  # Output: <class 'str'>\n",
        "\n",
        "```\n",
        "\n",
        "\n",
        "\n"
      ],
      "metadata": {
        "id": "rohSy3VkiSRq"
      }
    },
    {
      "cell_type": "markdown",
      "source": [
        "2. Explain the difference between mutable and immutable data types with examples?\n",
        "\n",
        " -  Difference between mutable and immutable data types is:\n",
        "\n",
        "- Mutable data types: These data types can be changed or modified (like adding, removing, modifying) in a same memory location after creation.\n",
        "\n",
        " Some types of mutable data types are: Lists, sets, dictionaries.\n",
        "\n",
        " Example of mutable:\n",
        "                    \n",
        "\n",
        "```\n",
        "# Mutable Example: List\n",
        "numbers = [1, 2, 3]\n",
        "numbers.append(4)  # Modifying the list\n",
        "print(numbers)  # Output: [1, 2, 3, 4]\n",
        "```\n",
        "\n",
        "- Immutable datatypes: These data types can not be changed or modified (like adding, removing, modifying) in a same memory location after creation.\n",
        "\n",
        "Some types of immutable datatypes are: Tuples, strings\n",
        "\n",
        "Example of immutable:\n",
        "\n",
        "\n",
        "```\n",
        "# Immutable Example: Tuple\n",
        "coordinates = (10, 20, 30)\n",
        "# coordinates[1] = 50  # This will cause an error!\n",
        "print(coordinates)  # Output: (10, 20, 30)\n",
        "```\n",
        "\n",
        "\n",
        "\n"
      ],
      "metadata": {
        "id": "j6Tf2SaEm-0F"
      }
    },
    {
      "cell_type": "markdown",
      "source": [
        "3. What are the main differences between lists and tuples in Python ?\n",
        "\n",
        " -  Main differences between lists and tuples in python are:-\n",
        "\n",
        " Lists: Lists are an ordered and mutable collection of elements that can be used to store heterogenous and any type of data.\n",
        "\n",
        "- Some main features of lists are:-\n",
        "\n",
        "\n",
        "1.   Lists are mutable (can be modified) and supports functions like append() and remove()\n",
        "2.   Syntax: defined using [ ]\n",
        "3. Usually slower than tuples and uses more memory because of mutability\n",
        "4. Used for data that needs modification after creation.\n",
        "\n",
        "Example:-\n",
        "\n",
        "\n",
        "```\n",
        "# List Example (Mutable)\n",
        "my_list = [1, 2, 3]\n",
        "my_list.append(4)  # Adding an element\n",
        "print(my_list)  # Output: [1, 2, 3, 4]\n",
        "```\n",
        "\n",
        "- Tuples: Tuples are an ordered and immutable collection of elements which can also be used to store heterogenous data. However, once created, the items in a tuple cannot be changed. They provide a secure way to store data that shouldn't be modified.\n",
        "\n",
        "- Some main features of tuples are:-\n",
        "1.   Tuples are immutable (can not be modified) and supports functions like index() and count()\n",
        "2.   Syntax: defined using ( )\n",
        "3. Usually faster than lists and uses less memory because of immutability\n",
        "4. Used for fixed data that does'nt require any modification.\n",
        "\n",
        "Example\n",
        "\n",
        "```\n",
        "# Tuple Example (Immutable)\n",
        "my_tuple = (1, 2, 3)\n",
        "# my_tuple[0] = 10  # This will cause an error!\n",
        "print(my_tuple)  # Output: (1, 2, 3)\n",
        "```\n",
        "\n",
        "\n",
        "\n",
        "\n"
      ],
      "metadata": {
        "id": "Phve6W7Jqm5p"
      }
    },
    {
      "cell_type": "markdown",
      "source": [
        "4. Describe how dictionaries store data ?\n",
        " -  Dictionaries in python is a datatype which allows user to store data value by assinging it to a unique key, in this data is stored in the form of key-value pair, which helps in sorting and retrieval of specific data more easy and faster.\n",
        "\n",
        " Example of a dictionary:\n",
        "\n",
        "\n",
        "```\n",
        "student = {\"name\": \"Dhruv\", \"age\": 17, \"city\": \"Bulandshahr\"}\n",
        "\n",
        "# Accessing values using keys\n",
        "print(student[\"name\"])  # Output: Dhruv\n",
        "```\n",
        "\n"
      ],
      "metadata": {
        "id": "4OnEEwDgvyWj"
      }
    },
    {
      "cell_type": "markdown",
      "source": [
        "5. Why might you use a set instead of a list in Python?\n",
        " -  A set is an unordered and mutable collection of unique elements, as it does not allows duplicate data in the collection, sets are useful for checking membership (if an item exists) or finding the intersection/difference between sets.\n",
        "\n",
        " You can add or remove elements from a set, but you cannot access elements by index (since order doesn't matter). Set operations like union (combining elements), intersection (finding common elements), and difference (finding elements in one set but not the other) are efficient.\n",
        "\n",
        " Example:-\n",
        "          \n",
        "\n",
        "```\n",
        "numbers_set = {1, 2, 2, 3, 4, 4, 5}\n",
        "\n",
        "print(numbers_set)  # Output: {1, 2, 3, 4, 5}\n",
        "```\n",
        "\n"
      ],
      "metadata": {
        "id": "1-IbhVUkytJV"
      }
    },
    {
      "cell_type": "markdown",
      "source": [
        "6. What is a string in Python, and how is it different from a list?\n",
        " - A string in a python is a sequence of immutable characters which are used to represent and manipulate textual data.\n",
        "\n",
        " Each character in the string can be accessed by its index, or position. Substrings can be extracted using slicing. Strings can be joined together and altered using a variety of techniques (find, replace, etc.).\n",
        "\n",
        " Difference of String from a list are:\n",
        "-  Strings are immutable and lists are mutable\n",
        "-  Strings can contain text, numbers, and symbols, but lists can store multiple data types, including other lists.\n",
        "- Syntax of strings is it's enclosed in (\" \") or ('') or (\"\"\" \"\"\") like (\"Hello world\"), but lists store elements enclosed in [ ] like [ 'Dhruv', 17].\n",
        "\n",
        "\n",
        "Example of string vs list:-\n",
        "                    \n",
        "\n",
        "```\n",
        "# String Example (Immutable)\n",
        "text = \"hello\"\n",
        " text[0] = 'H'  # This will cause an error!\n",
        "new_text = \"H\" + text[1:]  # Creating a new string\n",
        "print(new_text)  # Output: \"Hello\"\n",
        "\n",
        "# List Example (Mutable)\n",
        "numbers = [1, 2, 3, 4]\n",
        "numbers[0] = 10  # Modifying an element\n",
        "print(numbers)  # Output: [10, 2, 3, 4]\n",
        "```\n",
        "\n",
        "\n"
      ],
      "metadata": {
        "id": "He5RfQvB9xKH"
      }
    },
    {
      "cell_type": "markdown",
      "source": [
        "7.  How do tuples ensure data integrity in Python?\n",
        " -  A tuple is an immutable data type in python means it can't be changed or modified once created, and values will always remain same stored by creator.\n",
        " This immutability ensures the integrity of data that it can't be changed even accidentally.\n",
        "\n",
        " It makes it suitable for storing data like coordinates, employee details, documents, personal id details, etc."
      ],
      "metadata": {
        "id": "ZFxk51heA3dL"
      }
    },
    {
      "cell_type": "markdown",
      "source": [
        "8. What is a hash table, and how does it relate to dictionaries in Python?\n",
        "\n",
        " -  A hash table is a data structure that maps keys to values using a hash function. It allows for fast lookups, insertions, and deletions by computing a unique index for each key.\n",
        "\n",
        "In Python, dictionaries (dict) are implemented as hash tables, making them extremely efficient for storing and retrieving data. The key is passed through a hash function to generate a unique index."
      ],
      "metadata": {
        "id": "OQiDLTSSDCtE"
      }
    },
    {
      "cell_type": "markdown",
      "source": [
        "9.  Can lists contain different data types in Python?\n",
        "\n",
        " -  Lists in pyhton are an ordered data structure which are mutable and stores heterogenous data and by heterogenous data it means data of different data types (like; float, string, int, boolean, complex, etc) all in  a same memory location as different elements (like [ \"dhruv\", 17, 17.5, true, 5+6j] ), so yes it can store different data types.\n",
        "\n",
        " Example:-\n",
        "          \n",
        "\n",
        "```\n",
        "# List with different data types\n",
        "mixed_list = [10, \"Hello\", 3.14, True, [1, 2, 3], {\"name\": \"dhruv\"}]\n",
        "\n",
        "# Accessing elements\n",
        "print(mixed_list[0])  # Output: 10 (Integer)\n",
        "print(mixed_list[1])  # Output: Hello (String)\n",
        "print(mixed_list[2])  # Output: 3.14 (Float)\n",
        "print(mixed_list[3])  # Output: True (Boolean)\n",
        "print(mixed_list[4])  # Output: [1, 2, 3] (Nested List)\n",
        "print(mixed_list[5])  # Output: {'name': 'dhruv'} (Dictionary)\n",
        "```\n",
        "\n"
      ],
      "metadata": {
        "id": "0_So-IVfEjR0"
      }
    },
    {
      "cell_type": "markdown",
      "source": [
        "10.  Explain why strings are immutable in Python?\n",
        "\n",
        " -  Strings in python are an immutable sequence of characters or textual data which means after creation in cannot be changed instead it creates a new string in a new memory location not changing the old string.\n",
        "\n",
        "- Some reasons why strings are immutable are:\n",
        "1. It saves memory as they are immutable so python creates a new memory location instead of modifying\n",
        "2. As strings are immutable they can be used to store data which should'nt be changed like password, uid, employee no, roll no, etc.\n",
        "3. They can be used as dictionary keys as they are immutable.\n",
        "\n",
        "Example:-\n",
        "\n",
        "\n",
        "```\n",
        "text = \"hello\"\n",
        "\n",
        "# Attempting to modify (This will cause an error)\n",
        "# text[0] = 'H'  # TypeError: 'str' object does not support item assignment\n",
        "\n",
        "#Create a new string\n",
        "new_text = \"H\" + text[1:]\n",
        "print(new_text)  # Output: \"Hello\"\n",
        "```\n",
        "\n",
        "\n"
      ],
      "metadata": {
        "id": "s_BsCTTAGtjY"
      }
    },
    {
      "cell_type": "markdown",
      "source": [
        "11. What advantages do dictionaries offer over lists for certain tasks ?\n",
        "  -  A dictionary (dict) in Python is a collection of key-value pairs that allows fast lookups, modifications, and insertions. It is unordered and used for easy retrieval of data.\n",
        "\n",
        "- Advantages that dictionaries offer over lists are:-\n",
        "1. Dictionaries offers fast lookup as it uses O(1) direct key based access to retrieve data but lists use O(n) which scans all elements sequentially.\n",
        "2. Dict stores data in key- value pair which makes data more detailed and understandable.\n",
        "3. All keys are unique which allows to search data faster.\n",
        "4. Keys can be used to modify data faster without looking for elements in the list.\n",
        "5. Dict are best to used when you have to set a relationship between data like contacts in phonebook.  \n"
      ],
      "metadata": {
        "id": "wQS_iH2eK01z"
      }
    },
    {
      "cell_type": "markdown",
      "source": [
        "12. Describe a scenario where using a tuple would be preferable over a list.\n",
        "  -  Tuples are an ordered and immutable collection of elements which can also be used to store heterogenous data. However, once created, the items in a tuple cannot be changed. This makes tuples ideal for scenarios where data integrity and security are important.\n",
        "\n",
        "-  An example of a scenario where tuples are preferred over a list is Employee's personal details:\n",
        "\n",
        "When storing an employee's personal details (like name, date of birth, and employee ID), a tuple is preferable because:\n",
        "\n",
        " 1. The data should remain unchanged (immutability ensures security).\n",
        "\n",
        "2. Tuples are memory-efficient, as they use less space than lists.\n",
        "\n",
        "3. They can be used as dictionary keys since they are hashable.\n",
        "\n",
        "example:-\n",
        "            \n",
        "\n",
        "\n",
        "```\n",
        "# Employee details stored as a tuple\n",
        "employee_details = (\"Dhruv\", \"D12345\", \"28-07-2007\")\n",
        "\n",
        "print(f\"Name: {employee_details[0]}\")\n",
        "print(f\"Employee ID: {employee_details[1]}\")\n",
        "print(f\"Date of Birth: {employee_details[2]}\")\n",
        "\n",
        "# Attempting to modify (This will cause an error)\n",
        "# employee_details[1] = \"D54321\"  # TypeError: 'tuple' object does not support item assignment\n",
        "```\n",
        "\n",
        "\n",
        "\n"
      ],
      "metadata": {
        "id": "QFAkqU1ENEiA"
      }
    },
    {
      "cell_type": "markdown",
      "source": [
        "13. How do sets handle duplicate values in Python ?\n",
        "  -  A set in a python is an unordered and mutable (but indexing does'nt work) collection of unique elements as it automatically discards the duplicate values while computing a collection to ensure in output each element appears only once. When a duplicate value is stored pyhton removes it internally and even if you try to enter duplicate value in sets it will ignore it without an error, it is done to make sets efficient, faster, occupies less storage and to filters out repeated data, which makes them useful in mathematical operators like union and intersection.\n",
        "\n",
        "  Example:-\n",
        "\n",
        "\n",
        "```\n",
        "fruits = {\"apple\", \"banana\", \"cherry\"}\n",
        "\n",
        "# Trying to add a duplicate value\n",
        "fruits.add(\"banana\")\n",
        "print(fruits)  # Output: {'apple', 'banana', 'cherry'}\n",
        "```\n",
        "\n"
      ],
      "metadata": {
        "id": "hOIU776xQjhu"
      }
    },
    {
      "cell_type": "markdown",
      "source": [
        "14.  How does the “in” keyword work differently for lists and dictionaries?\n",
        " -  The \"in\" keyword is used in python to check wethere an element is present in a data structure and it gives value in boolean ( True and Flase), \" in \" keyword is similarly used in lists and dictionaries to check wether the element or value is present in the data type, but \"in\" keyword works differently for lists and dictionaries.\n",
        "\n",
        "- Lists: The \"in\" keyword in lists are used to check if a value exists anywhere in the list.\n",
        "\n",
        " Example:-\n",
        "  \n",
        "\n",
        "```\n",
        "# List Example\n",
        "numbers = [10, 20, 30, 40]\n",
        "\n",
        "# Checking if 20 exists in the list\n",
        "print(20 in numbers)  # Output: True\n",
        "\n",
        "# Checking if 50 exists\n",
        "print(50 in numbers)  # Output: False\n",
        "```\n",
        "- Dictionaries: The \"in\" keyword in dict, is used to check if they key exists anywhere in the collection not the values.\n",
        "\n",
        "Example:-\n",
        "        \n",
        "\n",
        "```\n",
        "# Dictionary Example\n",
        "student = {\"name\": \"Dhruv\", \"age\": 17}\n",
        "\n",
        "# Checking if a key exists\n",
        "print(\"name\" in student)  # Output: True\n",
        "print(\"age\" in student)   # Output: True\n",
        "\n",
        "# Checking for a value (Incorrect usage)\n",
        "print(\"Dhruv\" in student)  # Output: False (It does NOT check values)\n",
        "```\n",
        "\n",
        "\n",
        "\n",
        "\n"
      ],
      "metadata": {
        "id": "JKFdQ2wHTuoA"
      }
    },
    {
      "cell_type": "markdown",
      "source": [
        "15. Can you modify the elements of a tuple? Explain why or why not?\n",
        " -  No, you cannot modify the elements of tuples as tuples are immutable type of data structures in pyhton which means after creation it cannot be modiefied and its elements cannot be changed, added or removed.\n",
        "\n",
        " Tuples are immutable because of many reasons like; they are memory efficient and faster because of immutability, they secures the integrity of data and stops accidental modification in data, they are hashables and can be used as dict keys.\n",
        "\n",
        " Example:-\n",
        "\n",
        "\n",
        "```\n",
        "my_tuple = (1, 2, 3)\n",
        "\n",
        "# Trying to change an element (This will cause an error)\n",
        "# my_tuple[0] = 10  # TypeError: 'tuple' object does not support item assignment\n",
        "```\n",
        "\n"
      ],
      "metadata": {
        "id": "-5LbhwcnV6VQ"
      }
    },
    {
      "cell_type": "markdown",
      "source": [
        "16. What is a nested dictionary, and give an example of its use case ?\n",
        " -  A nested dictionary is a type of dictionary in which the key is a dictionary and value is a whole dictionary stroed in it, in this a dictionary acts a key and holds another dictionary as value. It helps in storing data in a hierarchial order and more organised way making it easy to access and retrieve.\n",
        "\n",
        "\n",
        " Example:-\n",
        "  \n",
        "\n",
        "```\n",
        "employees = {\n",
        "    \"E101\": {\"name\": \"Dhruv\", \"age\": 17, \"department\": \"IT\"},\n",
        "    \"E102\": {\"name\": \"Idhika\", \"age\": 18, \"department\": \"HR\"},\n",
        "    \"E103\": {\"name\": \"Manvendra\", \"age\": 19, \"department\": \"Finance\"}\n",
        "}\n",
        "\n",
        "# Accessing nested dictionary values\n",
        "print(employees[\"E101\"][\"name\"])  # Output: Dhruv\n",
        "print(employees[\"E102\"][\"department\"])  # Output: HR\n",
        "```\n",
        "\n"
      ],
      "metadata": {
        "id": "J2xhPYxPY_rn"
      }
    },
    {
      "cell_type": "markdown",
      "source": [
        "17. Describe the time complexity of accessing elements in a dictionary?\n",
        "\n",
        " -  A dictionary (dict) in Python is an unordered collection of key-value pairs. It is implemented using a hash table, which allows for fast data retrieval, making dictionary operations extremely efficient.\n",
        "\n",
        " Dictionaries in Python provide O(1) average-case time complexity for key-based lookups, insertions, and deletions. However, in rare cases, the worst-case complexity can degrade to O(n) due to hash collisions.\n",
        "\n",
        " Example:-\n",
        "    \n",
        "\n",
        "\n",
        "\n",
        "\n",
        "\n",
        "```\n",
        "student = {\"name\": \"Dhruv\", \"age\": 17,}\n",
        "\n",
        "# Accessing an element (O(1) time complexity)\n",
        "print(student[\"name\"])  # Output: Dhruv\n",
        "```\n",
        "\n"
      ],
      "metadata": {
        "id": "qUdsds49anUW"
      }
    },
    {
      "cell_type": "markdown",
      "source": [
        "18. In what situations are lists preferred over dictionaries?\n",
        " -  A list is an ordered, mutable sequence of elements, while a dictionary is an unordered collection of key-value pairs.\n",
        "\n",
        "- Situations in which lists are preferred over dictionaries are:\n",
        "1. When data needs to be stored in a sequential orders as dictionaries stores data in key value pair in an unordered way ( before python 3.7)\n",
        "2. When data needs to be accessed by index (like data[0]) lists are preferred.\n",
        "3. List uses less storage in comparison to dictionaries so its preferred to store large datasets.\n",
        "4. Lists allow duplicate values, dictionaries do not.\n"
      ],
      "metadata": {
        "id": "P41yDGGUdIaL"
      }
    },
    {
      "cell_type": "markdown",
      "source": [
        "19. Why are dictionaries considered unordered, and how does that affect data retrieval?\n",
        " -  A dictionary in Python is a collection of key-value pairs where each key is unique. Unlike lists, dictionaries do not store elements in a fixed order (before Python 3.7), as they use hashing to store and retrieve data efficiently.\n",
        "\n",
        " Dictionaries are considered unordered ( before python 3,7) because it uses hashing to store data rather than sequential memory locations.\n",
        "\n",
        "  The unordered nature allows O(1) average time complexity for lookups.\n",
        "This makes accessing elements much faster compared to lists (O(n))."
      ],
      "metadata": {
        "id": "XdWCzZiGgWew"
      }
    },
    {
      "cell_type": "markdown",
      "source": [
        "20.  Explain the difference between a list and a dictionary in terms of data retrieval.\n",
        "\n",
        "-  Lists: Lists are the ordered and mutable data type of python whose data can be accessed by use of indexes.\n",
        "\n",
        "- Dictionaries: Dictionaries are the unordered (before python 3.7) data type of python whose data can be accessed by use of key-value pair.\n",
        "\n",
        " -  Key differences between a list and a dictionary in terms of data retrieval are:\n",
        "1. Lists can be accessed using indexes (like list[i]) but dict are accessed using key- value pair ( like (dict[key]) ).\n",
        "2. List uses time complexity of O(n) for search and O(0) for indexes, but dictionaries use O(1) for key lookup which makes it faster.\n",
        "3. Lists stores data in ordered sequence but dict stores data in key-value form.\n",
        "4. Lists are best for ordered data and dicts are best for fast lookups.\n",
        "\n",
        "Example of Retrieving Data from a List:\n",
        "\n",
        "\n",
        "```\n",
        "# List of students\n",
        "students = [\"Dhruv\", \"Manvendra\", \"Idhika\"]\n",
        "\n",
        "# Access by index\n",
        "print(students[1])  # Output: Manvendra\n",
        "\n",
        "# Searching for an element\n",
        "if \"Idhika\" in students:\n",
        "    print(\"Idhika is in the list\")\n",
        "```\n",
        "\n",
        "Example of Retrieving Data from a Dictionary\n",
        "\n",
        "\n",
        "```\n",
        "# Dictionary of students\n",
        "students_dict = {\"Dhruv\": 17, \"Manvendra\": 19, \"Idhika\": 18}\n",
        "\n",
        "# Accessing value using a key\n",
        "print(students_dict[\"Idhika\"])  # Output: 18\n",
        "```\n",
        "\n",
        "\n",
        "\n"
      ],
      "metadata": {
        "id": "5wRxIoeBhitf"
      }
    },
    {
      "cell_type": "markdown",
      "source": [
        "#  ***Data Types and Structure Assignment (Practical Questions)***\n"
      ],
      "metadata": {
        "id": "Yd1MsLv1lZei"
      }
    },
    {
      "cell_type": "code",
      "source": [
        "\"\"\"1. Write a code to create a string with your name and print it.\"\"\"\n",
        "name = \"Dhruv\"\n",
        "print(name)\n"
      ],
      "metadata": {
        "colab": {
          "base_uri": "https://localhost:8080/"
        },
        "id": "TxHLUWKbll8T",
        "outputId": "cbdeb5fd-495c-4430-9031-bf2be798a77b"
      },
      "execution_count": null,
      "outputs": [
        {
          "output_type": "stream",
          "name": "stdout",
          "text": [
            "Dhruv\n"
          ]
        }
      ]
    },
    {
      "cell_type": "code",
      "source": [
        "\"\"\" 2. Write a code to find the length of the string \"Hello World\".\"\"\"\n",
        "text = \"Hello World\"\n",
        "print(len(text))\n"
      ],
      "metadata": {
        "colab": {
          "base_uri": "https://localhost:8080/"
        },
        "id": "cenrUkilm7LR",
        "outputId": "98420d29-0ac5-4f19-a66d-3e65143b20d0"
      },
      "execution_count": null,
      "outputs": [
        {
          "output_type": "stream",
          "name": "stdout",
          "text": [
            "11\n"
          ]
        }
      ]
    },
    {
      "cell_type": "code",
      "source": [
        "\"\"\"\"3. Write a code to slice the first 3 characters from the string \"Python Programming\".\"\"\"\n",
        "text = \"Python Programming\"\n",
        "print(text[:3])\n"
      ],
      "metadata": {
        "colab": {
          "base_uri": "https://localhost:8080/"
        },
        "id": "9AloldtFnFl6",
        "outputId": "867ab6bb-5dc6-4b7f-925d-476388bdf250"
      },
      "execution_count": null,
      "outputs": [
        {
          "output_type": "stream",
          "name": "stdout",
          "text": [
            "Pyt\n"
          ]
        }
      ]
    },
    {
      "cell_type": "code",
      "source": [
        "\"\"\" 4. Write a code to convert the string \"hello\" to uppercase.\"\"\"\n",
        "text = \"hello\"\n",
        "print(text.upper()) # using .upper\n"
      ],
      "metadata": {
        "colab": {
          "base_uri": "https://localhost:8080/"
        },
        "id": "vxoFxMFNnYWt",
        "outputId": "e9dcc76b-52de-4c94-a614-4e7b9ee460e0"
      },
      "execution_count": null,
      "outputs": [
        {
          "output_type": "stream",
          "name": "stdout",
          "text": [
            "HELLO\n"
          ]
        }
      ]
    },
    {
      "cell_type": "code",
      "source": [
        "\"\"\"5. Write a code to replace the word \"apple\" with \"orange\" in the string \"I like apple\".\"\"\"\n",
        "text = \"I like apple\"\n",
        "print(text.replace(\"apple\", \"orange\")) #using the replace fucntion\n"
      ],
      "metadata": {
        "colab": {
          "base_uri": "https://localhost:8080/"
        },
        "id": "Vi2978JvnmkT",
        "outputId": "93c47ead-bf79-431a-c237-ebfb32d7c030"
      },
      "execution_count": null,
      "outputs": [
        {
          "output_type": "stream",
          "name": "stdout",
          "text": [
            "I like orange\n"
          ]
        }
      ]
    },
    {
      "cell_type": "code",
      "source": [
        "\"\"\" 6. Write a code to create a list with numbers 1 to 5 and print it.\"\"\"\n",
        "numbers = [1, 2, 3, 4, 5] #list\n",
        "print(numbers)\n"
      ],
      "metadata": {
        "colab": {
          "base_uri": "https://localhost:8080/"
        },
        "id": "iaJp4sI0n2HP",
        "outputId": "adf153a5-0aa1-4ba9-eba1-20c4d52feb07"
      },
      "execution_count": null,
      "outputs": [
        {
          "output_type": "stream",
          "name": "stdout",
          "text": [
            "[1, 2, 3, 4, 5]\n"
          ]
        }
      ]
    },
    {
      "cell_type": "code",
      "source": [
        "\"\"\"7. Write a code to append the number 10 to the list [1, 2, 3, 4].\"\"\"\n",
        "numbers = [1, 2, 3, 4]\n",
        "numbers.append(10) # using append function\n",
        "print(numbers)\n"
      ],
      "metadata": {
        "colab": {
          "base_uri": "https://localhost:8080/"
        },
        "id": "neZkidEyoHIF",
        "outputId": "b45f3164-3926-41c5-e4bd-c30e8cb24d3f"
      },
      "execution_count": null,
      "outputs": [
        {
          "output_type": "stream",
          "name": "stdout",
          "text": [
            "[1, 2, 3, 4, 10]\n"
          ]
        }
      ]
    },
    {
      "cell_type": "code",
      "source": [
        "\"\"\" 8. Write a code to remove the number 3 from the list [1, 2, 3, 4, 5].\"\"\"\n",
        "numbers = [1, 2, 3, 4, 5]\n",
        "numbers.remove(3) # using remove function\n",
        "print(numbers)\n"
      ],
      "metadata": {
        "colab": {
          "base_uri": "https://localhost:8080/"
        },
        "id": "X_rFrGWZoS3K",
        "outputId": "8eb3c74c-9fa2-49a2-bfec-034e3e24a937"
      },
      "execution_count": null,
      "outputs": [
        {
          "output_type": "stream",
          "name": "stdout",
          "text": [
            "[1, 2, 4, 5]\n"
          ]
        }
      ]
    },
    {
      "cell_type": "code",
      "source": [
        "\"\"\" 9. Write a code to access the second element in the list ['a', 'b', 'c', 'd'].\"\"\"\n",
        "letters = ['a', 'b', 'c', 'd']\n",
        "print(letters[1]) # using indexing to access second element\n"
      ],
      "metadata": {
        "colab": {
          "base_uri": "https://localhost:8080/"
        },
        "id": "KCXQ7zDhoc7e",
        "outputId": "49166587-c115-458a-ec2d-27212eb58dca"
      },
      "execution_count": null,
      "outputs": [
        {
          "output_type": "stream",
          "name": "stdout",
          "text": [
            "b\n"
          ]
        }
      ]
    },
    {
      "cell_type": "code",
      "source": [
        "\"\"\" 10. Write a code to reverse the list [10, 20, 30, 40, 50].\"\"\"\n",
        "numbers = [10, 20, 30, 40, 50]\n",
        "numbers.reverse() # using reverse function\n",
        "print(numbers)\n"
      ],
      "metadata": {
        "colab": {
          "base_uri": "https://localhost:8080/"
        },
        "id": "q3IJGD84pCZp",
        "outputId": "e9816b2d-cf86-41e9-b1b0-af5b1d38196b"
      },
      "execution_count": null,
      "outputs": [
        {
          "output_type": "stream",
          "name": "stdout",
          "text": [
            "[50, 40, 30, 20, 10]\n"
          ]
        }
      ]
    },
    {
      "cell_type": "code",
      "source": [
        "\"\"\" 11. Write a code to create a tuple with the elements 100, 200, 300 and print it.\"\"\"\n",
        "num = (100, 200, 300) #tuple()\n",
        "print(num)"
      ],
      "metadata": {
        "colab": {
          "base_uri": "https://localhost:8080/"
        },
        "id": "6POYq5nLpSYE",
        "outputId": "5c1360d5-9ca3-4b78-e65d-418f6ec53c18"
      },
      "execution_count": null,
      "outputs": [
        {
          "output_type": "stream",
          "name": "stdout",
          "text": [
            "(100, 200, 300)\n"
          ]
        }
      ]
    },
    {
      "cell_type": "code",
      "source": [
        "\"\"\" 12. Write a code to access the second-to-last element of the tuple ('red', 'green', 'blue', 'yellow').\"\"\"\n",
        "colour =  (\"red\", \"green\", \"blue\", \"yellow\")\n",
        "print(colour[-2]) # indexing"
      ],
      "metadata": {
        "colab": {
          "base_uri": "https://localhost:8080/"
        },
        "id": "PhTejN4xqUFH",
        "outputId": "8b0fb95c-6316-44b3-ba7b-5a07d6bb2876"
      },
      "execution_count": null,
      "outputs": [
        {
          "output_type": "stream",
          "name": "stdout",
          "text": [
            "blue\n"
          ]
        }
      ]
    },
    {
      "cell_type": "code",
      "source": [
        "\"\"\" 13. Write a code to find the minimum number in the tuple (10, 20, 5, 15).\"\"\"\n",
        "num = (10, 20, 5, 15)\n",
        "print(min(num)) # using min function"
      ],
      "metadata": {
        "colab": {
          "base_uri": "https://localhost:8080/"
        },
        "id": "ddWYulycq3Qx",
        "outputId": "93d704c5-2be3-4518-ab41-d3442e818c03"
      },
      "execution_count": null,
      "outputs": [
        {
          "output_type": "stream",
          "name": "stdout",
          "text": [
            "5\n"
          ]
        }
      ]
    },
    {
      "cell_type": "code",
      "source": [
        "\"\"\" 14. Write a code to find the index of the element \"cat\" in the tuple ('dog', 'cat', 'rabbit').\"\"\"\n",
        "dom_animals = (\"dog\", \"cat\", \"rabbit\")\n",
        "print(dom_animals.index(\"cat\")) # using .index"
      ],
      "metadata": {
        "colab": {
          "base_uri": "https://localhost:8080/"
        },
        "id": "_BSJAHr6rO2d",
        "outputId": "d75d7c7a-122a-44a6-d4e0-a7e8f83b73d5"
      },
      "execution_count": null,
      "outputs": [
        {
          "output_type": "stream",
          "name": "stdout",
          "text": [
            "1\n"
          ]
        }
      ]
    },
    {
      "cell_type": "code",
      "source": [
        "\"\"\" 15. Write a code to create a tuple containing three different fruits and check if \"kiwi\" is in it.\"\"\"\n",
        "fruits =  (\"apple\", \"mango\", \"pineapple\")\n",
        "print(\"kiwi\" in fruits) # in functions checks the value"
      ],
      "metadata": {
        "colab": {
          "base_uri": "https://localhost:8080/"
        },
        "id": "shM8rYyar32V",
        "outputId": "c8ef3c5c-2c16-4b62-fdd5-d68e2c472e7c"
      },
      "execution_count": null,
      "outputs": [
        {
          "output_type": "stream",
          "name": "stdout",
          "text": [
            "False\n"
          ]
        }
      ]
    },
    {
      "cell_type": "code",
      "source": [
        "\"\"\"16. Write a code to create a set with the elements 'a', 'b', 'c' and print it.\"\"\"\n",
        "alpha = {'a','b','c','a','a','a','b','c','b','c'} #set\n",
        "print(alpha)"
      ],
      "metadata": {
        "colab": {
          "base_uri": "https://localhost:8080/"
        },
        "id": "mE1PzpS9sSar",
        "outputId": "e6973916-121e-4c16-a20b-784b703589ad"
      },
      "execution_count": null,
      "outputs": [
        {
          "output_type": "stream",
          "name": "stdout",
          "text": [
            "{'b', 'a', 'c'}\n"
          ]
        }
      ]
    },
    {
      "cell_type": "code",
      "source": [
        "\"\"\" 17. Write a code to clear all elements from the set {1, 2, 3, 4, 5}.\"\"\"\n",
        "numbers = {1, 2, 3, 4, 5}\n",
        "numbers.clear() # using .clear\n",
        "print(numbers)\n"
      ],
      "metadata": {
        "colab": {
          "base_uri": "https://localhost:8080/"
        },
        "id": "jmADA5r3s7fO",
        "outputId": "0ead7b67-1e6e-47f3-c10b-3c7e87a9a1df"
      },
      "execution_count": null,
      "outputs": [
        {
          "output_type": "stream",
          "name": "stdout",
          "text": [
            "set()\n"
          ]
        }
      ]
    },
    {
      "cell_type": "code",
      "source": [
        "\"\"\" 18. Write a code to remove the element 4 from the set {1, 2, 3, 4}.\"\"\"\n",
        "numbers = {1, 2, 3, 4}\n",
        "numbers.remove(4) # using .remove\n",
        "print(numbers)\n"
      ],
      "metadata": {
        "colab": {
          "base_uri": "https://localhost:8080/"
        },
        "id": "Lw0MkXD2tKfx",
        "outputId": "b7b47995-ff75-400f-996d-07510bca3666"
      },
      "execution_count": null,
      "outputs": [
        {
          "output_type": "stream",
          "name": "stdout",
          "text": [
            "{1, 2, 3}\n"
          ]
        }
      ]
    },
    {
      "cell_type": "code",
      "source": [
        "\"\"\"19. Write a code to find the union of two sets {1, 2, 3} and {3, 4, 5}.\"\"\"\n",
        "set1 = {1, 2, 3}\n",
        "set2 = {3, 4, 5}\n",
        "print(set1 | set2)\n"
      ],
      "metadata": {
        "colab": {
          "base_uri": "https://localhost:8080/"
        },
        "id": "EEyIz2qStfpJ",
        "outputId": "f312a11f-f9f5-4969-82d8-4f2e49b4a0e2"
      },
      "execution_count": null,
      "outputs": [
        {
          "output_type": "stream",
          "name": "stdout",
          "text": [
            "{1, 2, 3, 4, 5}\n"
          ]
        }
      ]
    },
    {
      "cell_type": "code",
      "source": [
        "\"\"\" 20. Write a code to find the intersection of two sets {1, 2, 3} and {2, 3, 4}.\"\"\"\n",
        "set1 = {1, 2, 3}\n",
        "set2 = {2, 3, 4}\n",
        "print(set1 & set2)\n"
      ],
      "metadata": {
        "colab": {
          "base_uri": "https://localhost:8080/"
        },
        "id": "yWv00uUstwFs",
        "outputId": "fed0fb1f-0f1d-4b60-b21e-8404e05a6d98"
      },
      "execution_count": null,
      "outputs": [
        {
          "output_type": "stream",
          "name": "stdout",
          "text": [
            "{2, 3}\n"
          ]
        }
      ]
    },
    {
      "cell_type": "code",
      "source": [
        "\"\"\" 21. Write a code to create a dictionary with the keys \"name\", \"age\", and \"city\", and print it.\"\"\"\n",
        "person = {\"name\": \"Dhruv\", \"age\": 17, \"city\": \"Bulandshahr\"} # dictionary\n",
        "print(person)\n"
      ],
      "metadata": {
        "colab": {
          "base_uri": "https://localhost:8080/"
        },
        "id": "NtUd3HKWuYEU",
        "outputId": "73ceb864-831b-4cc1-d085-a2af490d60f0"
      },
      "execution_count": null,
      "outputs": [
        {
          "output_type": "stream",
          "name": "stdout",
          "text": [
            "{'name': 'Dhruv', 'age': 17, 'city': 'Bulandshahr'}\n"
          ]
        }
      ]
    },
    {
      "cell_type": "code",
      "source": [
        "\"\"\" 22. Write a code to add a new key-value pair \"country\": \"USA\" to the dictionary {'name': 'John', 'age': 25}.\"\"\"\n",
        "person = {'name': 'John', 'age': 25}\n",
        "person[\"country\"] = \"USA\"\n",
        "print(person)\n"
      ],
      "metadata": {
        "colab": {
          "base_uri": "https://localhost:8080/"
        },
        "id": "6_6P2_kEuzs_",
        "outputId": "b70225bf-ac5e-4e5f-e8b4-8aeba1824500"
      },
      "execution_count": null,
      "outputs": [
        {
          "output_type": "stream",
          "name": "stdout",
          "text": [
            "{'name': 'John', 'age': 25, 'country': 'USA'}\n"
          ]
        }
      ]
    },
    {
      "cell_type": "code",
      "source": [
        "\"\"\" 23. Write a code to access the value associated with the key \"name\" in the dictionary {'name': 'Alice', 'age': 30}.\"\"\"\n",
        "person = {'name': 'Alice', 'age': 30}\n",
        "print(person[\"name\"])\n"
      ],
      "metadata": {
        "colab": {
          "base_uri": "https://localhost:8080/"
        },
        "id": "wExOIY60vBmM",
        "outputId": "8c9a388c-451f-4db1-fd00-321bd80f4757"
      },
      "execution_count": null,
      "outputs": [
        {
          "output_type": "stream",
          "name": "stdout",
          "text": [
            "Alice\n"
          ]
        }
      ]
    },
    {
      "cell_type": "code",
      "source": [
        "\"\"\" 24. Write a code to remove the key \"age\" from the dictionary {'name': 'Bob', 'age': 22, 'city': 'New York'}.\"\"\"\n",
        "person = {'name': 'Bob', 'age': 22, 'city': 'New York'}\n",
        "person.pop(\"age\") # using .pop\n",
        "print(person)\n",
        "\n"
      ],
      "metadata": {
        "id": "GZobVGTcvQZ3",
        "colab": {
          "base_uri": "https://localhost:8080/"
        },
        "outputId": "320138a3-6fe6-40e6-ec7e-9fca445355cc"
      },
      "execution_count": 26,
      "outputs": [
        {
          "output_type": "stream",
          "name": "stdout",
          "text": [
            "{'name': 'Bob', 'city': 'New York'}\n"
          ]
        }
      ]
    },
    {
      "cell_type": "code",
      "source": [
        "\"\"\" 25. Write a code to check if the key \"city\" exists in the dictionary {'name': 'Alice', 'city': 'Paris'}.\"\"\"\n",
        "person = {'name': 'Alice', 'city': 'Paris'}\n",
        "print(\"city\" in person)\n"
      ],
      "metadata": {
        "colab": {
          "base_uri": "https://localhost:8080/"
        },
        "id": "MrLIadynwDbr",
        "outputId": "82de6efe-fa2f-432b-fe67-e6b6d9bc075c"
      },
      "execution_count": 27,
      "outputs": [
        {
          "output_type": "stream",
          "name": "stdout",
          "text": [
            "True\n"
          ]
        }
      ]
    },
    {
      "cell_type": "code",
      "source": [
        "\"\"\" 26. Write a code to create a list, a tuple, and a dictionary, and print them all.\"\"\"\n",
        "my_list = [1, 2, 3]\n",
        "my_tuple = (4, 5, 6)\n",
        "my_dict = {\"a\": 7, \"b\": 8}\n",
        "\n",
        "print(my_list)\n",
        "print(my_tuple)\n",
        "print(my_dict)\n",
        "\n"
      ],
      "metadata": {
        "colab": {
          "base_uri": "https://localhost:8080/"
        },
        "id": "NB61RUGDwO1v",
        "outputId": "4a78e6a8-53af-4a02-cc0f-954b9725063a"
      },
      "execution_count": 28,
      "outputs": [
        {
          "output_type": "stream",
          "name": "stdout",
          "text": [
            "[1, 2, 3]\n",
            "(4, 5, 6)\n",
            "{'a': 7, 'b': 8}\n"
          ]
        }
      ]
    },
    {
      "cell_type": "code",
      "source": [
        "\"\"\"27. Write a code to create a list of 5 random numbers between 1 and 100, sort it in ascending order, and print the result.\"\"\"\n",
        "import random\n",
        "numbers = random.sample(range(1, 101), 5)\n",
        "numbers.sort()\n",
        "print(numbers)\n"
      ],
      "metadata": {
        "colab": {
          "base_uri": "https://localhost:8080/"
        },
        "id": "RlyQMRvywrIp",
        "outputId": "e7f52998-82e0-4ffc-a7a5-6de754f0085e"
      },
      "execution_count": 29,
      "outputs": [
        {
          "output_type": "stream",
          "name": "stdout",
          "text": [
            "[14, 25, 37, 44, 59]\n"
          ]
        }
      ]
    },
    {
      "cell_type": "code",
      "source": [
        "\"\"\" 28. Write a code to create a list with strings and print the element at the third index.\"\"\"\n",
        "anime_mc = [\"luffy\", \"naruto\", \"zoro\", \"thorfinn\", \"eren\"]\n",
        "print(anime_mc[3])\n"
      ],
      "metadata": {
        "colab": {
          "base_uri": "https://localhost:8080/"
        },
        "id": "80Y0xR4gxHxr",
        "outputId": "a6c160f3-b641-406b-ee86-27ac325fbbbb"
      },
      "execution_count": 32,
      "outputs": [
        {
          "output_type": "stream",
          "name": "stdout",
          "text": [
            "thorfinn\n"
          ]
        }
      ]
    },
    {
      "cell_type": "code",
      "source": [
        "\"\"\" 29. Write a code to combine two dictionaries into one and print the result.\"\"\"\n",
        "dict1 = {\"a\": 1, \"b\": 2}\n",
        "dict2 = {\"c\": 3, \"d\": 4}\n",
        "\n",
        "merged_dict = {**dict1, **dict2}\n",
        "print(merged_dict)\n",
        "\n"
      ],
      "metadata": {
        "colab": {
          "base_uri": "https://localhost:8080/"
        },
        "id": "66RBkVBYxiug",
        "outputId": "a9d935d0-5008-4a25-a31f-3753465e37ab"
      },
      "execution_count": 35,
      "outputs": [
        {
          "output_type": "stream",
          "name": "stdout",
          "text": [
            "{'a': 1, 'b': 2, 'c': 3, 'd': 4}\n"
          ]
        }
      ]
    },
    {
      "cell_type": "code",
      "source": [
        "\"\"\" 30. Write a code to convert a list of strings into a set.\"\"\"\n",
        "anime_mc = [\"luffy\", \"naruto\", \"zoro\", \"thorfinn\", \"eren\"]\n",
        "anime_mc_set = set(anime_mc)\n",
        "print(anime_mc_set)"
      ],
      "metadata": {
        "colab": {
          "base_uri": "https://localhost:8080/"
        },
        "id": "5CJ1Ul09yaUU",
        "outputId": "09e4a586-6b93-44cd-a576-1c85d5f0c46b"
      },
      "execution_count": 34,
      "outputs": [
        {
          "output_type": "stream",
          "name": "stdout",
          "text": [
            "{'thorfinn', 'eren', 'naruto', 'zoro', 'luffy'}\n"
          ]
        }
      ]
    }
  ]
}